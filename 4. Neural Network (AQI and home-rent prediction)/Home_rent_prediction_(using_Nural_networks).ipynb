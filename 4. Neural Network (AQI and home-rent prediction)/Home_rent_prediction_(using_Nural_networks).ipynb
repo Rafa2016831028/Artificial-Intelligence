{
  "nbformat": 4,
  "nbformat_minor": 0,
  "metadata": {
    "colab": {
      "name": "Home rent prediction (using Nural networks).ipynb",
      "provenance": [],
      "authorship_tag": "ABX9TyNdYR230QP5zM44I0GhjZr9",
      "include_colab_link": true
    },
    "kernelspec": {
      "name": "python3",
      "display_name": "Python 3"
    }
  },
  "cells": [
    {
      "cell_type": "markdown",
      "metadata": {
        "id": "view-in-github",
        "colab_type": "text"
      },
      "source": [
        "<a href=\"https://colab.research.google.com/github/Rafa2016831028/Artificial-Intelligence/blob/main/Home_rent_prediction_(using_Nural_networks).ipynb\" target=\"_parent\"><img src=\"https://colab.research.google.com/assets/colab-badge.svg\" alt=\"Open In Colab\"/></a>"
      ]
    },
    {
      "cell_type": "code",
      "metadata": {
        "id": "faCTOEETqaOc"
      },
      "source": [
        "from sklearn.neural_network import MLPRegressor\r\n",
        "from sklearn.model_selection import train_test_split\r\n",
        "from sklearn.datasets import load_boston\r\n",
        "from sklearn.preprocessing import StandardScaler\r\n",
        "from sklearn.preprocessing import LabelEncoder\r\n",
        "from sklearn.metrics import r2_score\r\n",
        "import matplotlib.pyplot as plt\r\n",
        "import pandas as pd"
      ],
      "execution_count": 8,
      "outputs": []
    },
    {
      "cell_type": "markdown",
      "metadata": {
        "id": "4kJYi8naCy8j"
      },
      "source": [
        "Creating Data Frame"
      ]
    },
    {
      "cell_type": "code",
      "metadata": {
        "id": "0sn5ersmZDoE"
      },
      "source": [
        "boston_housing = load_boston()\r\n",
        "X = pd.DataFrame(boston_housing.data, columns=boston_housing.feature_names)\r\n",
        "y = boston_housing.target\r\n"
      ],
      "execution_count": 10,
      "outputs": []
    },
    {
      "cell_type": "markdown",
      "metadata": {
        "id": "W3iZm7fRDGev"
      },
      "source": [
        "Spliting training and testing dataset"
      ]
    },
    {
      "cell_type": "code",
      "metadata": {
        "id": "1cdXwpyXqmcX"
      },
      "source": [
        "X_train, X_test, y_train, y_test = train_test_split(X, y,random_state=1, test_size=0.2)"
      ],
      "execution_count": 12,
      "outputs": []
    },
    {
      "cell_type": "markdown",
      "metadata": {
        "id": "jjHzzXzuDUVC"
      },
      "source": [
        "Fitting MLPRegression"
      ]
    },
    {
      "cell_type": "code",
      "metadata": {
        "id": "vRsIrmYbq5Cx"
      },
      "source": [
        "reg = MLPRegressor(random_state=1, max_iter=2000).fit(X_train, y_train)"
      ],
      "execution_count": 13,
      "outputs": []
    },
    {
      "cell_type": "markdown",
      "metadata": {
        "id": "ZLcaO7leDosv"
      },
      "source": [
        "Predicting target and plotting "
      ]
    },
    {
      "cell_type": "code",
      "metadata": {
        "colab": {
          "base_uri": "https://localhost:8080/",
          "height": 317
        },
        "id": "aj6qBASZrAxs",
        "outputId": "a966ae13-51fb-4df2-e633-0ba3f9cfa128"
      },
      "source": [
        "y_pred=reg.predict(X_test)\r\n",
        "plt.axis(xmin=0,xmax=40,ymin=0,ymax=40)\r\n",
        "plt.scatter(y_test,y_pred)\r\n",
        "plt.plot(range(40),'g')\r\n",
        "plt.xlabel(\"t\")\r\n",
        "print(\"The R-squared value is: {0:0.4f} \\n\".format(reg.score(X, y)))"
      ],
      "execution_count": 14,
      "outputs": [
        {
          "output_type": "stream",
          "text": [
            "The R-squared value is: 0.5558 \n",
            "\n"
          ],
          "name": "stdout"
        },
        {
          "output_type": "display_data",
          "data": {
            "image/png": "[encoded data removed]",
            "text/plain": [
              "<Figure size 432x288 with 1 Axes>"
            ]
          },
          "metadata": {
            "tags": [],
            "needs_background": "light"
          }
        }
      ]
    },
    {
      "cell_type": "code",
      "metadata": {
        "colab": {
          "base_uri": "https://localhost:8080/"
        },
        "id": "jnPyZ71gNou2",
        "outputId": "9e691518-5bd0-4016-eb23-0ab2631bd5e9"
      },
      "source": [
        "from sklearn import metrics\r\n",
        "import numpy as np\r\n",
        "\r\n",
        "print('MAE:', metrics.mean_absolute_error(y_test, y_pred))\r\n",
        "print('MSE:', metrics.mean_squared_error(y_test, y_pred))\r\n",
        "print('RMSE:', np.sqrt(metrics.mean_squared_error(y_test, y_pred)))\r\n",
        "print(\"R2 score =\", round(metrics.r2_score(y_test, y_pred), 2))"
      ],
      "execution_count": 17,
      "outputs": [
        {
          "output_type": "stream",
          "text": [
            "MAE: 5.4174231551448875\n",
            "MSE: 50.20326610752628\n",
            "RMSE: 7.085426317980188\n",
            "R2 score = 0.49\n"
          ],
          "name": "stdout"
        }
      ]
    }
  ]
}