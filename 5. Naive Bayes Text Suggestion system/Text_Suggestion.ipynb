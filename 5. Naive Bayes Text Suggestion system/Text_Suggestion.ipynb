{
  "nbformat": 4,
  "nbformat_minor": 0,
  "metadata": {
    "colab": {
      "name": "Text Suggestion.ipynb",
      "provenance": [],
      "collapsed_sections": [],
      "authorship_tag": "ABX9TyNwa2lF9W4Pn1u2WBOuiDOs",
      "include_colab_link": true
    },
    "kernelspec": {
      "name": "python3",
      "display_name": "Python 3"
    }
  },
  "cells": [
    {
      "cell_type": "markdown",
      "metadata": {
        "id": "view-in-github",
        "colab_type": "text"
      },
      "source": [
        "<a href=\"https://colab.research.google.com/github/Rafa2016831028/Artificial-Intelligence/blob/main/Text_Suggestion.ipynb\" target=\"_parent\"><img src=\"https://colab.research.google.com/assets/colab-badge.svg\" alt=\"Open In Colab\"/></a>"
      ]
    },
    {
      "cell_type": "code",
      "metadata": {
        "id": "p48DiTuZ7719"
      },
      "source": [
        "import nltk\r\n",
        "from nltk import bigrams, trigrams\r\n",
        "from collections import Counter, defaultdict\r\n",
        "import spacy"
      ],
      "execution_count": 23,
      "outputs": []
    },
    {
      "cell_type": "code",
      "metadata": {
        "colab": {
          "base_uri": "https://localhost:8080/"
        },
        "id": "8vfZw2V68OI9",
        "outputId": "3a596a8d-fc0c-4d54-9f35-2e35212d11f3"
      },
      "source": [
        "nltk.download('words')\r\n",
        "nltk.download('reuters')\r\n",
        "nltk.download('punkt')\r\n",
        "nltk.download('averaged_perceptron_tagger')\r\n",
        "nltk.download('treebank')\r\n",
        "nltk.download('maxent_ne_chunker')"
      ],
      "execution_count": 39,
      "outputs": [
        {
          "output_type": "stream",
          "text": [
            "[nltk_data] Downloading package words to /root/nltk_data...\n",
            "[nltk_data]   Unzipping corpora/words.zip.\n",
            "[nltk_data] Downloading package reuters to /root/nltk_data...\n",
            "[nltk_data]   Package reuters is already up-to-date!\n",
            "[nltk_data] Downloading package punkt to /root/nltk_data...\n",
            "[nltk_data]   Package punkt is already up-to-date!\n",
            "[nltk_data] Downloading package averaged_perceptron_tagger to\n",
            "[nltk_data]     /root/nltk_data...\n",
            "[nltk_data]   Package averaged_perceptron_tagger is already up-to-\n",
            "[nltk_data]       date!\n",
            "[nltk_data] Downloading package treebank to /root/nltk_data...\n",
            "[nltk_data]   Package treebank is already up-to-date!\n",
            "[nltk_data] Downloading package maxent_ne_chunker to\n",
            "[nltk_data]     /root/nltk_data...\n",
            "[nltk_data]   Package maxent_ne_chunker is already up-to-date!\n"
          ],
          "name": "stdout"
        },
        {
          "output_type": "execute_result",
          "data": {
            "text/plain": [
              "True"
            ]
          },
          "metadata": {
            "tags": []
          },
          "execution_count": 39
        }
      ]
    },
    {
      "cell_type": "code",
      "metadata": {
        "colab": {
          "base_uri": "https://localhost:8080/"
        },
        "id": "tJOODKV2VLOm",
        "outputId": "8de72cf6-f7f7-4841-892b-15ca908febe8"
      },
      "source": [
        "sentence = \"\"\"At eight o'clock on Thursday morning. Arthur didn't feel very good.\"\"\"\r\n",
        "tokens = nltk.word_tokenize(sentence)\r\n",
        "print(tokens)\r\n",
        "#text = nltk.word_tokenize(\"And now for something completely different\")\r\n",
        "#nltk.pos_tag(text)\r\n",
        "tagged = nltk.pos_tag(tokens)\r\n",
        "print(tagged[0:6])\r\n",
        "\r\n",
        "entities = nltk.chunk.ne_chunk(tagged)\r\n"
      ],
      "execution_count": 43,
      "outputs": [
        {
          "output_type": "stream",
          "text": [
            "['At', 'eight', \"o'clock\", 'on', 'Thursday', 'morning', '.', 'Arthur', 'did', \"n't\", 'feel', 'very', 'good', '.']\n",
            "[('At', 'IN'), ('eight', 'CD'), (\"o'clock\", 'NN'), ('on', 'IN'), ('Thursday', 'NNP'), ('morning', 'NN')]\n"
          ],
          "name": "stdout"
        }
      ]
    },
    {
      "cell_type": "code",
      "metadata": {
        "colab": {
          "base_uri": "https://localhost:8080/"
        },
        "id": "_-qmn0QOVhUb",
        "outputId": "58d133d1-59ce-4802-a52d-c896402e3d38"
      },
      "source": [
        "\r\n",
        "from nltk.corpus import treebank\r\n",
        "t = treebank.parsed_sents('wsj_0001.mrg')[0]\r\n",
        "#t.draw()\r\n",
        "from nltk.corpus import treebank_chunk\r\n",
        "treebank_chunk.tagged_sents()[0]\r\n",
        "#treebank_chunk.chunked_sents()[0].draw()"
      ],
      "execution_count": 47,
      "outputs": [
        {
          "output_type": "stream",
          "text": [
            "/usr/local/lib/python3.6/dist-packages/nltk/tokenize/regexp.py:123: FutureWarning: split() requires a non-empty pattern match.\n",
            "  return [tok for tok in self._regexp.split(text) if tok]\n"
          ],
          "name": "stderr"
        },
        {
          "output_type": "execute_result",
          "data": {
            "text/plain": [
              "[('Pierre', 'NNP'),\n",
              " ('Vinken', 'NNP'),\n",
              " (',', ','),\n",
              " ('61', 'CD'),\n",
              " ('years', 'NNS'),\n",
              " ('old', 'JJ'),\n",
              " (',', ','),\n",
              " ('will', 'MD'),\n",
              " ('join', 'VB'),\n",
              " ('the', 'DT'),\n",
              " ('board', 'NN'),\n",
              " ('as', 'IN'),\n",
              " ('a', 'DT'),\n",
              " ('nonexecutive', 'JJ'),\n",
              " ('director', 'NN'),\n",
              " ('Nov.', 'NNP'),\n",
              " ('29', 'CD'),\n",
              " ('.', '.')]"
            ]
          },
          "metadata": {
            "tags": []
          },
          "execution_count": 47
        }
      ]
    },
    {
      "cell_type": "code",
      "metadata": {
        "id": "x9m3wm3OcZqS"
      },
      "source": [
        "model1 = defaultdict(lambda: 0)\r\n",
        "model2 = defaultdict(lambda: defaultdict(lambda: 0))\r\n",
        "model3 = defaultdict(lambda: defaultdict(lambda: 0))\r\n",
        "model4 = defaultdict(lambda: set())\r\n",
        "model5 = defaultdict(lambda: set())"
      ],
      "execution_count": null,
      "outputs": []
    },
    {
      "cell_type": "code",
      "metadata": {
        "id": "NYxJz4sg87qy",
        "colab": {
          "base_uri": "https://localhost:8080/"
        },
        "outputId": "f9e4e36c-3443-4a2e-aeee-5e70ad78b1aa"
      },
      "source": [
        "from nltk.corpus import reuters\r\n",
        "def returnLowerCase(u):\r\n",
        "  if type(u)==str:\r\n",
        "    return u.lower()\r\n",
        "  return u\r\n",
        "\r\n",
        "#frequency of word co-occurance  \r\n",
        "total_word=0\r\n",
        "\r\n",
        "# Count frequency of co-occurance  \r\n",
        "for sentence in reuters.sents():\r\n",
        "  for word in sentence:\r\n",
        "    model1[word]+=1\r\n",
        "    total_word+=1\r\n",
        "  for w1, w2, w3 in trigrams(sentence, pad_right=True, pad_left=True):\r\n",
        "    w1=returnLowerCase(w1)\r\n",
        "    w2=returnLowerCase(w2)\r\n",
        "    w3=returnLowerCase(w3)\r\n",
        "    model2[w3][w2] += 1\r\n",
        "    model3[w3][w1] += 1\r\n",
        "    model4[w2].add(w3)\r\n",
        "    model5[w1].add(w3)\r\n",
        "\r\n",
        "print(total_word)\r\n",
        "print(model1.values)"
      ],
      "execution_count": null,
      "outputs": [
        {
          "output_type": "stream",
          "text": [
            "1720917\n",
            "<built-in method values of collections.defaultdict object at 0x7f194a63ae08>\n"
          ],
          "name": "stdout"
        }
      ]
    },
    {
      "cell_type": "code",
      "metadata": {
        "id": "sQwXGyO1-hfG"
      },
      "source": [
        "def calculateProbablities(model):\r\n",
        "  for wNext in model:\r\n",
        "    total_count = float(sum(model[wNext].values()))\r\n",
        "    for wPrev in model[wNext]:\r\n",
        "        model[wNext][wPrev] /= total_count\r\n",
        "\r\n",
        "calculateProbablities(model2)\r\n",
        "calculateProbablities(model3)\r\n",
        "\r\n",
        "for word in model1:\r\n",
        "  model1[word] /=total_word"
      ],
      "execution_count": null,
      "outputs": []
    },
    {
      "cell_type": "code",
      "metadata": {
        "id": "keoVQVHr_J-_",
        "colab": {
          "base_uri": "https://localhost:8080/"
        },
        "outputId": "9deea857-0621-40c0-ab5b-ed111fc85da3"
      },
      "source": [
        "def calculateTrigramProbabilityChain(w1,w2,w3):\r\n",
        "  return model1[w3]*model2[w3][w2]*model3[w3][w1]\r\n",
        "\r\n",
        "bestSuggestions=[]\r\n",
        "def trigramSuggestions(w1,w2):\r\n",
        "  for word3 in model4[w2] & model5[w1]:\r\n",
        "    score=calculateTrigramProbabilityChain(w1,w2,word3)\r\n",
        "    bestSuggestions.append((word3,score))\r\n",
        "\r\n",
        "trigramSuggestions('this','is')\r\n",
        "bestSuggestions.sort(key=lambda o: o[1],reverse=True)\r\n",
        "\r\n",
        "for x in bestSuggestions:\r\n",
        "  print(x)\r\n",
        "  "
      ],
      "execution_count": null,
      "outputs": [
        {
          "output_type": "stream",
          "text": [
            "('not', 8.604386358360941e-13)\n",
            "('due', 5.396577571113717e-13)\n",
            "('expected', 4.658628623986878e-13)\n",
            "('a', 4.1387337698232805e-13)\n",
            "('amore', 3.3766041544002626e-13)\n",
            "('likely', 2.6484755409306e-13)\n",
            "('going', 2.581855936116266e-13)\n",
            "('now', 2.1283487193327743e-13)\n",
            "('to', 2.0608651461975474e-13)\n",
            "('unlikely', 1.9627488637343428e-13)\n",
            "('the', 1.8267831599175355e-13)\n",
            "('also', 1.70663237114153e-13)\n",
            "('underpinning', 1.6883020772001313e-13)\n",
            "('that', 1.3845362304060411e-13)\n",
            "('hardly', 1.240385199575607e-13)\n",
            "('being', 1.2067347524389193e-13)\n",
            "('why', 1.088016894195639e-13)\n",
            "('proving', 1.0805133294080842e-13)\n",
            "('after', 1.0735677633386086e-13)\n",
            "('definitely', 1.0630050115704525e-13)\n",
            "('in', 1.0019432253991304e-13)\n",
            "('clearly', 9.079291837169349e-14)\n",
            "('because', 7.438278272818176e-14)\n",
            "('too', 7.315731426344932e-14)\n",
            "('still', 6.952785778723241e-14)\n",
            "('trying', 6.863478691083788e-14)\n",
            "('partly', 6.802043492851775e-14)\n",
            "('strictly', 6.753208308800527e-14)\n",
            "('just', 6.552990387799262e-14)\n",
            "('really', 5.6276735906671086e-14)\n",
            "('seeking', 5.482047972114141e-14)\n",
            "('put', 5.141064550580087e-14)\n",
            "('aimed', 4.656474016044186e-14)\n",
            "('supporting', 4.651444498408528e-14)\n",
            "('only', 4.5825342095432276e-14)\n",
            "('angered', 4.479168776245247e-14)\n",
            "('an', 4.200470567258859e-14)\n",
            "('very', 4.190525310405681e-14)\n",
            "('important', 3.6702219069568036e-14)\n",
            "(',', 3.6327892954675803e-14)\n",
            "('entirely', 3.493038780414067e-14)\n",
            "('making', 3.491644927251969e-14)\n",
            "('already', 3.3464651822619146e-14)\n",
            "('at', 3.2993888067443064e-14)\n",
            "('believed', 3.250809471956378e-14)\n",
            "('certainly', 2.9514542036381086e-14)\n",
            "('about', 2.926039242730504e-14)\n",
            "('proof', 2.9180529729384966e-14)\n",
            "('done', 2.894232132343083e-14)\n",
            "('better', 2.7226595763927002e-14)\n",
            "('totally', 2.6808577407336683e-14)\n",
            "('increasingly', 2.596389199846414e-14)\n",
            "('finally', 2.5011882625187134e-14)\n",
            "(',\"', 2.3855902180044638e-14)\n",
            "('based', 2.2455798598333533e-14)\n",
            "('basically', 2.2232784555721907e-14)\n",
            "('estimated', 2.2035048252930117e-14)\n",
            "('marketed', 2.110377596500164e-14)\n",
            "('unacceptable', 2.110377596500164e-14)\n",
            "('largely', 2.110246752827497e-14)\n",
            "('above', 2.0676914912301914e-14)\n",
            "('for', 2.045497255416015e-14)\n",
            "('good', 2.0295141423893313e-14)\n",
            "('released', 1.971739652204535e-14)\n",
            "('described', 1.9574516837103e-14)\n",
            "('probably', 1.8599938138645557e-14)\n",
            "('approved', 1.8377367803957536e-14)\n",
            "('gradually', 1.823783108086561e-14)\n",
            "('accepted', 1.8206929498099075e-14)\n",
            "('over', 1.8035530011304113e-14)\n",
            "('forecast', 1.7856563335447833e-14)\n",
            "('possible', 1.71412906900169e-14)\n",
            "('on', 1.710730386800075e-14)\n",
            "('\"', 1.7034049407739395e-14)\n",
            "('potentially', 1.6883020772001306e-14)\n",
            "('town', 1.6414047972779054e-14)\n",
            "('reflected', 1.6337327259045454e-14)\n",
            "('limiting', 1.6079067401906e-14)\n",
            "('one', 1.590117947651225e-14)\n",
            "('indeed', 1.5007129575112284e-14)\n",
            "('necessary', 1.432007477460556e-14)\n",
            "('lifted', 1.3500791287897743e-14)\n",
            "('more', 1.25256961247673e-14)\n",
            "('reported', 1.1978968794499004e-14)\n",
            "('reflecting', 1.1910506742912803e-14)\n",
            "('is', 1.0969471104381536e-14)\n",
            "('within', 1.0740090502997185e-14)\n",
            "('equivalent', 1.0628748769053907e-14)\n",
            "('well', 1.0559200353906554e-14)\n",
            "('under', 1.0441262037584236e-14)\n",
            "('up', 1.00532067234408e-14)\n",
            "('especially', 9.927216213936763e-15)\n",
            "('using', 9.79714033533078e-15)\n",
            "('almost', 9.451237535346561e-15)\n",
            "('equal', 9.118915540432792e-15)\n",
            "('so', 9.111017826965924e-15)\n",
            "('tightening', 8.632662191673433e-15)\n",
            "('.\"', 8.123847132733854e-15)\n",
            "('whether', 7.984533916562184e-15)\n",
            "('as', 7.913955939677454e-15)\n",
            "('run', 7.650034372209228e-15)\n",
            "('available', 7.362138843347029e-15)\n",
            "('partially', 7.122096377588437e-15)\n",
            "('lead', 6.510017981890797e-15)\n",
            "('what', 6.475629167930355e-15)\n",
            "('full', 6.45772122320305e-15)\n",
            "('linked', 6.250744607647337e-15)\n",
            "('when', 6.205135752550427e-15)\n",
            "('quoted', 6.139152275050638e-15)\n",
            "('around', 6.11364589991982e-15)\n",
            "('our', 6.032295601298389e-15)\n",
            "('affected', 5.811502721905126e-15)\n",
            "('caused', 5.5026141775411866e-15)\n",
            "('much', 5.334181987584492e-15)\n",
            "('significant', 5.214236161675021e-15)\n",
            "('against', 5.1985467434723194e-15)\n",
            "('another', 4.991658624803656e-15)\n",
            "('some', 4.8011913771789805e-15)\n",
            "('of', 4.7689627066878235e-15)\n",
            "('most', 4.618896841144167e-15)\n",
            "('following', 4.550442692959281e-15)\n",
            "('.', 4.353435131435526e-15)\n",
            "('reached', 4.3417397175209615e-15)\n",
            "('without', 4.323383589506016e-15)\n",
            "('provided', 4.301229815352084e-15)\n",
            "('with', 4.206158227626556e-15)\n",
            "('toward', 4.117809944390561e-15)\n",
            "('far', 4.1124846870574455e-15)\n",
            "('blue', 3.8297967724766704e-15)\n",
            "('held', 3.744203992275671e-15)\n",
            "('among', 3.67772818719457e-15)\n",
            "('raised', 3.661612446553821e-15)\n",
            "('behind', 3.636931912335891e-15)\n",
            "('imposed', 3.6290033781140424e-15)\n",
            "('hurt', 3.5075527919670245e-15)\n",
            "('saying', 3.433185929474893e-15)\n",
            "('confirmed', 3.3016004060455363e-15)\n",
            "('out', 3.2482501892731458e-15)\n",
            "('...', 3.246734763846418e-15)\n",
            "('--', 3.1668034273390162e-15)\n",
            "('higher', 3.1130511599686914e-15)\n",
            "('but', 3.036006240435697e-15)\n",
            "('lending', 2.8565022201148713e-15)\n",
            "('its', 2.820708173850471e-15)\n",
            "('along', 2.691777227365916e-15)\n",
            "('then', 2.6369251979570657e-15)\n",
            "('high', 2.6146543967158032e-15)\n",
            "('close', 2.4842851984344957e-15)\n",
            "('between', 2.4568235476178697e-15)\n",
            "('we', 2.390351661886995e-15)\n",
            "('700', 2.3448639961112996e-15)\n",
            "('old', 2.193683936196767e-15)\n",
            "('rejected', 2.1102941196758104e-15)\n",
            "('will', 2.0651761339321427e-15)\n",
            "('called', 1.951374680091312e-15)\n",
            "('cut', 1.931902819513388e-15)\n",
            "('from', 1.917008858484433e-15)\n",
            "('any', 1.7521837774185291e-15)\n",
            "('related', 1.7303927107037312e-15)\n",
            "('and', 1.7225200760084504e-15)\n",
            "('before', 1.7102965366997095e-15)\n",
            "('reduce', 1.6909060725518656e-15)\n",
            "('eight', 1.576591107188376e-15)\n",
            "('would', 1.5764031670058293e-15)\n",
            "('it', 1.573928905901552e-15)\n",
            "('declared', 1.555904131719323e-15)\n",
            "('if', 1.5420783357096519e-15)\n",
            "('closed', 1.48049448734068e-15)\n",
            "('down', 1.4450990616425527e-15)\n",
            "('hit', 1.3206274026098806e-15)\n",
            "('are', 1.2556146685905525e-15)\n",
            "('by', 1.150440824488034e-15)\n",
            "('said', 1.110420560924055e-15)\n",
            "('30', 1.0665205794062878e-15)\n",
            "('offered', 1.0140872139191544e-15)\n",
            "('24', 9.59262543863704e-16)\n",
            "('22', 8.669073567138066e-16)\n",
            "('meeting', 8.662088643283077e-16)\n",
            "('consolidated', 8.510386821718826e-16)\n",
            "('central', 8.083415097195054e-16)\n",
            "('he', 7.955986325821816e-16)\n",
            "('may', 7.718103613299805e-16)\n",
            "('time', 7.686535629317672e-16)\n",
            "('(', 7.128650572273386e-16)\n",
            "('group', 6.903783459625094e-16)\n",
            "('21', 5.76212313037584e-16)\n",
            "('recent', 5.423355208610134e-16)\n",
            "('they', 5.096978587023242e-16)\n",
            "('first', 4.999033512218924e-16)\n",
            "('money', 4.776596595611811e-16)\n",
            "('seven', 4.682790524778482e-16)\n",
            "('12', 4.657385040552031e-16)\n",
            "('2', 4.137995287255236e-16)\n",
            "('there', 3.7702690655169665e-16)\n",
            "('yen', 3.4612512533982496e-16)\n",
            "('1', 3.384388247369337e-16)\n",
            "('imports', 2.9279226472815183e-16)\n",
            "('today', 2.134609252192043e-16)\n",
            "('company', 2.043250463142117e-16)\n",
            "('world', 1.9222101124090615e-16)\n",
            "('-', 1.7246427640131613e-16)\n",
            "('5', 1.44206882528303e-16)\n",
            "('9', 1.1789818974861198e-16)\n",
            "('0', 1.1532118013662282e-16)\n",
            "('american', 7.322726588954167e-17)\n",
            "('congress', 2.4783871011877832e-17)\n",
            "('opec', 6.369028509129856e-18)\n",
            "('taiwan', 5.576370977672494e-18)\n",
            "('i', 4.986714547495641e-18)\n",
            "('march', 4.169930159631547e-18)\n",
            "('japan', 5.671628713194426e-19)\n",
            "('u', 1.3222896558747456e-19)\n",
            "('caesars', 0.0)\n",
            "('british', 0.0)\n",
            "('kenya', 0.0)\n"
          ],
          "name": "stdout"
        }
      ]
    }
  ]
}